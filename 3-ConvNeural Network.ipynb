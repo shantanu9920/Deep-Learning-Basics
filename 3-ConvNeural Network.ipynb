{
 "cells": [
  {
   "cell_type": "code",
   "execution_count": 1,
   "metadata": {},
   "outputs": [],
   "source": [
    "import tensorflow as tf\n",
    "from tensorflow.keras.models import Sequential\n",
    "from tensorflow.keras.layers import Dense, Dropout, Activation, Flatten, Conv2D, MaxPooling2D\n",
    "import pickle\n",
    "\n",
    "#from tensorflow.keras.callbacks import TensorBoard\n",
    "#import time\n",
    "\n",
    "#Name = \"cats-vs-dogs-cnn-64x2-{}\".format(int(time.time()))\n",
    "#tensorboard = TensorBoard(log_dir='logs/{}'.format(NAME))\n",
    "\n",
    "#open terminal -> go to the directory -> tensorboard --logdir='logs/'\n",
    "\n",
    "#gpu_options = tf.GPUOptions(per_process_gpu_memory_fraction = 0.333)\n",
    "#sess = tf.Session(Config=tf.ConfigProto(gpu_options=gpu_options))"
   ]
  },
  {
   "cell_type": "code",
   "execution_count": 2,
   "metadata": {},
   "outputs": [],
   "source": [
    "X = pickle.load(open(\"X.pickle\",\"rb\"))\n",
    "y = pickle.load(open(\"y.pickle\",\"rb\"))\n",
    "X = X/255.0"
   ]
  },
  {
   "cell_type": "code",
   "execution_count": 5,
   "metadata": {},
   "outputs": [
    {
     "name": "stdout",
     "output_type": "stream",
     "text": [
      "Train on 22500 samples, validate on 2500 samples\n",
      "Epoch 1/10\n",
      "22500/22500 [==============================] - 131s 6ms/step - loss: 0.6294 - acc: 0.6395 - val_loss: 0.5509 - val_acc: 0.7320\n",
      "Epoch 2/10\n",
      "22500/22500 [==============================] - 130s 6ms/step - loss: 0.5037 - acc: 0.7540 - val_loss: 0.4922 - val_acc: 0.7736\n",
      "Epoch 3/10\n",
      "22500/22500 [==============================] - 131s 6ms/step - loss: 0.4487 - acc: 0.7904 - val_loss: 0.4767 - val_acc: 0.7780\n",
      "Epoch 4/10\n",
      "22500/22500 [==============================] - 129s 6ms/step - loss: 0.4097 - acc: 0.8133 - val_loss: 0.4862 - val_acc: 0.7740\n",
      "Epoch 5/10\n",
      "22500/22500 [==============================] - 128s 6ms/step - loss: 0.3655 - acc: 0.8354 - val_loss: 0.4660 - val_acc: 0.7884\n",
      "Epoch 6/10\n",
      "22500/22500 [==============================] - 128s 6ms/step - loss: 0.3161 - acc: 0.8600 - val_loss: 0.4629 - val_acc: 0.7916\n",
      "Epoch 7/10\n",
      "22500/22500 [==============================] - 129s 6ms/step - loss: 0.2637 - acc: 0.8905 - val_loss: 0.5116 - val_acc: 0.7816\n",
      "Epoch 8/10\n",
      "22500/22500 [==============================] - 129s 6ms/step - loss: 0.2094 - acc: 0.9120 - val_loss: 0.5481 - val_acc: 0.7764\n",
      "Epoch 9/10\n",
      "22500/22500 [==============================] - 129s 6ms/step - loss: 0.1535 - acc: 0.9405 - val_loss: 0.6403 - val_acc: 0.7708\n",
      "Epoch 10/10\n",
      "22500/22500 [==============================] - 129s 6ms/step - loss: 0.1126 - acc: 0.9580 - val_loss: 0.6923 - val_acc: 0.7744\n"
     ]
    },
    {
     "data": {
      "text/plain": [
       "<tensorflow.python.keras.callbacks.History at 0x7ff62a31ae80>"
      ]
     },
     "execution_count": 5,
     "metadata": {},
     "output_type": "execute_result"
    }
   ],
   "source": [
    "model = Sequential()\n",
    "\n",
    "model.add( Conv2D(64, (3,3), input_shape = X.shape[1:]))\n",
    "model.add(Activation(\"relu\"))\n",
    "model.add(MaxPooling2D(pool_size=(2,2)))\n",
    "\n",
    "model.add( Conv2D(64, (3,3)))\n",
    "model.add(Activation(\"relu\"))\n",
    "model.add(MaxPooling2D(pool_size=(2,2)))\n",
    "\n",
    "model.add(Flatten())\n",
    "model.add(Dense(64))\n",
    "model.add(Activation('relu'))\n",
    "\n",
    "model.add(Dense(1))\n",
    "model.add(Activation('sigmoid'))\n",
    "\n",
    "model.compile(loss=\"binary_crossentropy\", optimizer=\"adam\", metrics=['accuracy'])\n",
    "model.fit(X,y,batch_size=32,epochs =10,validation_split = 0.1)\n",
    "# Add callbacks = [tensorboard] in model.fit"
   ]
  },
  {
   "cell_type": "code",
   "execution_count": null,
   "metadata": {},
   "outputs": [],
   "source": []
  }
 ],
 "metadata": {
  "kernelspec": {
   "display_name": "Python 3",
   "language": "python",
   "name": "python3"
  },
  "language_info": {
   "codemirror_mode": {
    "name": "ipython",
    "version": 3
   },
   "file_extension": ".py",
   "mimetype": "text/x-python",
   "name": "python",
   "nbconvert_exporter": "python",
   "pygments_lexer": "ipython3",
   "version": "3.6.7"
  }
 },
 "nbformat": 4,
 "nbformat_minor": 2
}
