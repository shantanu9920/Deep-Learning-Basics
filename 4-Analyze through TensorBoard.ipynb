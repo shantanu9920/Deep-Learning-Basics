{
 "cells": [
  {
   "cell_type": "code",
   "execution_count": 1,
   "metadata": {},
   "outputs": [],
   "source": [
    "import tensorflow as tf\n",
    "from tensorflow.keras.models import Sequential\n",
    "from tensorflow.keras.layers import Dense, Dropout, Activation, Flatten, Conv2D, MaxPooling2D\n",
    "import pickle\n",
    "from tensorflow.keras.callbacks import TensorBoard\n",
    "import time"
   ]
  },
  {
   "cell_type": "code",
   "execution_count": 2,
   "metadata": {},
   "outputs": [],
   "source": [
    "X = pickle.load(open(\"X.pickle\",\"rb\"))\n",
    "y = pickle.load(open(\"y.pickle\",\"rb\"))\n",
    "X = X/255.0"
   ]
  },
  {
   "cell_type": "code",
   "execution_count": 3,
   "metadata": {},
   "outputs": [
    {
     "name": "stdout",
     "output_type": "stream",
     "text": [
      "3-conv-64-nodes-0-dense-1543915227\n",
      "Train on 17500 samples, validate on 7500 samples\n",
      "Epoch 1/10\n",
      "17500/17500 [==============================] - 121s 7ms/step - loss: 0.6467 - acc: 0.6171 - val_loss: 0.5685 - val_acc: 0.7144\n",
      "Epoch 2/10\n",
      "17500/17500 [==============================] - 127s 7ms/step - loss: 0.5426 - acc: 0.7269 - val_loss: 0.5045 - val_acc: 0.7515\n",
      "Epoch 3/10\n",
      "17500/17500 [==============================] - 125s 7ms/step - loss: 0.4893 - acc: 0.7656 - val_loss: 0.5159 - val_acc: 0.7417\n",
      "Epoch 4/10\n",
      "17500/17500 [==============================] - 131s 7ms/step - loss: 0.4521 - acc: 0.7873 - val_loss: 0.4616 - val_acc: 0.7889\n",
      "Epoch 5/10\n",
      "17500/17500 [==============================] - 132s 8ms/step - loss: 0.4176 - acc: 0.8090 - val_loss: 0.4597 - val_acc: 0.7812\n",
      "Epoch 6/10\n",
      "17500/17500 [==============================] - 123s 7ms/step - loss: 0.3902 - acc: 0.8234 - val_loss: 0.4226 - val_acc: 0.8075\n",
      "Epoch 7/10\n",
      "17500/17500 [==============================] - 112s 6ms/step - loss: 0.3534 - acc: 0.8437 - val_loss: 0.4598 - val_acc: 0.7847\n",
      "Epoch 8/10\n",
      "17500/17500 [==============================] - 111s 6ms/step - loss: 0.3267 - acc: 0.8594 - val_loss: 0.4468 - val_acc: 0.8057\n",
      "Epoch 9/10\n",
      "17500/17500 [==============================] - 131s 7ms/step - loss: 0.2965 - acc: 0.8727 - val_loss: 0.4676 - val_acc: 0.7915\n",
      "Epoch 10/10\n",
      "17500/17500 [==============================] - 117s 7ms/step - loss: 0.2736 - acc: 0.8825 - val_loss: 0.4465 - val_acc: 0.8089\n"
     ]
    },
    {
     "data": {
      "text/plain": [
       "<tensorflow.python.keras.callbacks.History at 0x7fa963176e48>"
      ]
     },
     "execution_count": 3,
     "metadata": {},
     "output_type": "execute_result"
    }
   ],
   "source": [
    "dense_layers = 0\n",
    "layer_sizes = 64\n",
    "conv_layers = 3\n",
    "\n",
    "\n",
    "\n",
    "Name = \"{}-conv-{}-nodes-{}-dense-{}\".format(conv_layers,layer_sizes, dense_layers, int(time.time()))\n",
    "print(Name)\n",
    "\n",
    "model = Sequential()\n",
    "\n",
    "model.add( Conv2D(layer_sizes, (3,3), input_shape = X.shape[1:]))\n",
    "model.add(Activation(\"relu\"))\n",
    "model.add(MaxPooling2D(pool_size=(2,2)))\n",
    "\n",
    "model.add( Conv2D(layer_sizes, (3,3)))\n",
    "model.add(Activation(\"relu\"))\n",
    "model.add(MaxPooling2D(pool_size=(2,2)))\n",
    "\n",
    "model.add( Conv2D(layer_sizes, (3,3)))\n",
    "model.add(Activation(\"relu\"))\n",
    "model.add(MaxPooling2D(pool_size=(2,2)))\n",
    "\n",
    "model.add(Flatten())\n",
    "\n",
    "model.add(Dense(1))\n",
    "model.add(Activation('sigmoid'))\n",
    "\n",
    "\n",
    "tensorboard = TensorBoard(log_dir='logs/{}'.format(Name))\n",
    "model.compile(loss=\"binary_crossentropy\", optimizer=\"adam\", metrics=['accuracy'])\n",
    "model.fit(X,y,batch_size=32,epochs =10,validation_split = 0.3,callbacks = [tensorboard])"
   ]
  },
  {
   "cell_type": "code",
   "execution_count": 4,
   "metadata": {},
   "outputs": [],
   "source": [
    "model.save('64x3-cnn.model')"
   ]
  },
  {
   "cell_type": "code",
   "execution_count": null,
   "metadata": {},
   "outputs": [],
   "source": []
  }
 ],
 "metadata": {
  "kernelspec": {
   "display_name": "Python 3",
   "language": "python",
   "name": "python3"
  },
  "language_info": {
   "codemirror_mode": {
    "name": "ipython",
    "version": 3
   },
   "file_extension": ".py",
   "mimetype": "text/x-python",
   "name": "python",
   "nbconvert_exporter": "python",
   "pygments_lexer": "ipython3",
   "version": "3.6.7"
  }
 },
 "nbformat": 4,
 "nbformat_minor": 2
}
